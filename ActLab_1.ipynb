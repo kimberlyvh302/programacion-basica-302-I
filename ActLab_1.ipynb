{
  "nbformat": 4,
  "nbformat_minor": 0,
  "metadata": {
    "colab": {
      "provenance": [],
      "authorship_tag": "ABX9TyNSnhFjAQofX9YJUgc5Fpav",
      "include_colab_link": true
    },
    "kernelspec": {
      "name": "python3",
      "display_name": "Python 3"
    },
    "language_info": {
      "name": "python"
    }
  },
  "cells": [
    {
      "cell_type": "markdown",
      "metadata": {
        "id": "view-in-github",
        "colab_type": "text"
      },
      "source": [
        "<a href=\"https://colab.research.google.com/github/kimberlyvh302/programacion-basica-302-I/blob/main/ActLab_1.ipynb\" target=\"_parent\"><img src=\"https://colab.research.google.com/assets/colab-badge.svg\" alt=\"Open In Colab\"/></a>"
      ]
    },
    {
      "cell_type": "markdown",
      "source": [
        "Actividad de laboratorio 1 impresion de mensajes"
      ],
      "metadata": {
        "id": "hDZGQSkTxm6i"
      }
    },
    {
      "cell_type": "markdown",
      "source": [
        "PB302_1.cpp programa para Bienvenida"
      ],
      "metadata": {
        "id": "o86fgapkmajL"
      }
    },
    {
      "cell_type": "code",
      "execution_count": 5,
      "metadata": {
        "colab": {
          "base_uri": "https://localhost:8080/"
        },
        "id": "6LPrROwhlnsx",
        "outputId": "848f40b0-2bd3-4d0a-e720-6dbfb9ce4568"
      },
      "outputs": [
        {
          "output_type": "stream",
          "name": "stdout",
          "text": [
            "Overwriting PB302_1.cpp\n"
          ]
        }
      ],
      "source": [
        "%%writefile PB302_1.cpp\n",
        "//progrma para imprimir mensaje de bienvenda\n",
        "//creado por kimberly saidel valladares hernandez\n",
        "//fecha: 15/septiembre/2025\n",
        "//PB302_1.cpp\n",
        "#include <iostream>\n",
        "using namespace std;\n",
        "int main()\n",
        "{\n",
        "  cout<<\"Bienvenidos aprogramacion básica en c++\\n\";\n",
        "  cout<<\"Gracias por programar en clase\";\n",
        "  return 0;\n",
        "}\n"
      ]
    },
    {
      "cell_type": "code",
      "source": [
        "!g++ PB302_1.cpp -o PB302_1\n",
        "!./PB302_1"
      ],
      "metadata": {
        "colab": {
          "base_uri": "https://localhost:8080/"
        },
        "id": "WaAd8iV5p2Ex",
        "outputId": "e169d3fe-7020-450f-aca6-59c660b95b6c"
      },
      "execution_count": 6,
      "outputs": [
        {
          "output_type": "stream",
          "name": "stdout",
          "text": [
            "Bienvenidos aprogramacion básica en c++\n",
            "Gracias por programar en clase"
          ]
        }
      ]
    }
  ]
}